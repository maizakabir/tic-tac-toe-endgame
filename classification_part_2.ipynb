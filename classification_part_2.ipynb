{
  "nbformat": 4,
  "nbformat_minor": 0,
  "metadata": {
    "colab": {
      "name": "assignment_5.ipynb",
      "provenance": []
    },
    "kernelspec": {
      "name": "python3",
      "display_name": "Python 3"
    }
  },
  "cells": [
    {
      "cell_type": "markdown",
      "metadata": {
        "id": "3mwQna5I_cmS"
      },
      "source": [
        "# Tic-Tac-Toe Endgame Data Set\n",
        "\n"
      ]
    },
    {
      "cell_type": "markdown",
      "metadata": {
        "id": "W7_fsikV_nFN"
      },
      "source": [
        "### Dataset Information"
      ]
    },
    {
      "cell_type": "markdown",
      "metadata": {
        "id": "c2dgIhz076Gs"
      },
      "source": [
        "Dataset encodes the complete set of possible board configurations at the end of tic-tac-toe games, where 'x' is assumed to have played first.\n",
        "\n",
        "Target concept: \"win for x\" (i.e., true when 'x' has one of 8 possible ways to create a 'three-in-a-row')\n",
        "\n",
        "\n",
        "\n",
        "\n"
      ]
    },
    {
      "cell_type": "markdown",
      "metadata": {
        "id": "SLIkbymz6YqW"
      },
      "source": [
        "**Attribute Information**\n",
        "\n",
        "x = player x has taken, o = player o has taken, b = blank\n",
        "\n",
        "Class: positive(1) when x wins, negative(0) when x loses\n",
        "\n",
        "1. top-left-square: {x,o,b}\n",
        "2. top-middle-square: {x,o,b}\n",
        "3. top-right-square: {x,o,b}\n",
        "4. middle-left-square: {x,o,b}\n",
        "5. middle-middle-square: {x,o,b}\n",
        "6. middle-right-square: {x,o,b}\n",
        "7. bottom-left-square: {x,o,b}\n",
        "8. bottom-middle-square: {x,o,b}\n",
        "9. bottom-right-square: {x,o,b}\n",
        "10. Class: {positive,negative}\n",
        "\n",
        "\n",
        "---\n",
        "\n",
        "\n"
      ]
    },
    {
      "cell_type": "code",
      "metadata": {
        "id": "6O1eZglctmHG"
      },
      "source": [
        "import pandas as pd\n",
        "import matplotlib.pyplot as plt\n",
        "import numpy as np\n",
        "import seaborn as sns \n",
        "import itertools\n",
        "\n",
        "from prettytable import PrettyTable\n",
        "\n",
        "from sklearn import metrics\n",
        "from sklearn import preprocessing\n",
        "from sklearn.preprocessing import LabelEncoder\n",
        "from sklearn.model_selection import train_test_split\n",
        "from sklearn.tree import DecisionTreeClassifier\n",
        "from sklearn import tree\n",
        "from sklearn.ensemble import RandomForestClassifier\n",
        "from sklearn.metrics import classification_report, accuracy_score, roc_auc_score, roc_curve, confusion_matrix, auc, log_loss\n",
        "from sklearn.model_selection import cross_val_score\n",
        "from sklearn.model_selection import GridSearchCV\n",
        "from sklearn.neural_network import MLPClassifier\n",
        "from sklearn.svm import SVC"
      ],
      "execution_count": 277,
      "outputs": []
    },
    {
      "cell_type": "code",
      "metadata": {
        "id": "lIzuoKfuuoCS",
        "outputId": "0f41fb71-824c-4a4b-a529-9af83fe84747",
        "colab": {
          "base_uri": "https://localhost:8080/",
          "height": 200
        }
      },
      "source": [
        "df = pd.read_csv('tic-tac-toe.data')\n",
        "df.head()"
      ],
      "execution_count": 278,
      "outputs": [
        {
          "output_type": "execute_result",
          "data": {
            "text/html": [
              "<div>\n",
              "<style scoped>\n",
              "    .dataframe tbody tr th:only-of-type {\n",
              "        vertical-align: middle;\n",
              "    }\n",
              "\n",
              "    .dataframe tbody tr th {\n",
              "        vertical-align: top;\n",
              "    }\n",
              "\n",
              "    .dataframe thead th {\n",
              "        text-align: right;\n",
              "    }\n",
              "</style>\n",
              "<table border=\"1\" class=\"dataframe\">\n",
              "  <thead>\n",
              "    <tr style=\"text-align: right;\">\n",
              "      <th></th>\n",
              "      <th>x</th>\n",
              "      <th>x.1</th>\n",
              "      <th>x.2</th>\n",
              "      <th>x.3</th>\n",
              "      <th>o</th>\n",
              "      <th>o.1</th>\n",
              "      <th>x.4</th>\n",
              "      <th>o.2</th>\n",
              "      <th>o.3</th>\n",
              "      <th>positive</th>\n",
              "    </tr>\n",
              "  </thead>\n",
              "  <tbody>\n",
              "    <tr>\n",
              "      <th>0</th>\n",
              "      <td>x</td>\n",
              "      <td>x</td>\n",
              "      <td>x</td>\n",
              "      <td>x</td>\n",
              "      <td>o</td>\n",
              "      <td>o</td>\n",
              "      <td>o</td>\n",
              "      <td>x</td>\n",
              "      <td>o</td>\n",
              "      <td>positive</td>\n",
              "    </tr>\n",
              "    <tr>\n",
              "      <th>1</th>\n",
              "      <td>x</td>\n",
              "      <td>x</td>\n",
              "      <td>x</td>\n",
              "      <td>x</td>\n",
              "      <td>o</td>\n",
              "      <td>o</td>\n",
              "      <td>o</td>\n",
              "      <td>o</td>\n",
              "      <td>x</td>\n",
              "      <td>positive</td>\n",
              "    </tr>\n",
              "    <tr>\n",
              "      <th>2</th>\n",
              "      <td>x</td>\n",
              "      <td>x</td>\n",
              "      <td>x</td>\n",
              "      <td>x</td>\n",
              "      <td>o</td>\n",
              "      <td>o</td>\n",
              "      <td>o</td>\n",
              "      <td>b</td>\n",
              "      <td>b</td>\n",
              "      <td>positive</td>\n",
              "    </tr>\n",
              "    <tr>\n",
              "      <th>3</th>\n",
              "      <td>x</td>\n",
              "      <td>x</td>\n",
              "      <td>x</td>\n",
              "      <td>x</td>\n",
              "      <td>o</td>\n",
              "      <td>o</td>\n",
              "      <td>b</td>\n",
              "      <td>o</td>\n",
              "      <td>b</td>\n",
              "      <td>positive</td>\n",
              "    </tr>\n",
              "    <tr>\n",
              "      <th>4</th>\n",
              "      <td>x</td>\n",
              "      <td>x</td>\n",
              "      <td>x</td>\n",
              "      <td>x</td>\n",
              "      <td>o</td>\n",
              "      <td>o</td>\n",
              "      <td>b</td>\n",
              "      <td>b</td>\n",
              "      <td>o</td>\n",
              "      <td>positive</td>\n",
              "    </tr>\n",
              "  </tbody>\n",
              "</table>\n",
              "</div>"
            ],
            "text/plain": [
              "   x x.1 x.2 x.3  o o.1 x.4 o.2 o.3  positive\n",
              "0  x   x   x   x  o   o   o   x   o  positive\n",
              "1  x   x   x   x  o   o   o   o   x  positive\n",
              "2  x   x   x   x  o   o   o   b   b  positive\n",
              "3  x   x   x   x  o   o   b   o   b  positive\n",
              "4  x   x   x   x  o   o   b   b   o  positive"
            ]
          },
          "metadata": {
            "tags": []
          },
          "execution_count": 278
        }
      ]
    },
    {
      "cell_type": "code",
      "metadata": {
        "id": "wLlcYd_qvEdf",
        "outputId": "1867f86a-d611-4485-9eb3-950d06c8a342",
        "colab": {
          "base_uri": "https://localhost:8080/",
          "height": 535
        }
      },
      "source": [
        "df.shape\n",
        "df.info()\n",
        "df.isnull().sum().sort_values(ascending=True)"
      ],
      "execution_count": 279,
      "outputs": [
        {
          "output_type": "stream",
          "text": [
            "<class 'pandas.core.frame.DataFrame'>\n",
            "RangeIndex: 957 entries, 0 to 956\n",
            "Data columns (total 10 columns):\n",
            " #   Column    Non-Null Count  Dtype \n",
            "---  ------    --------------  ----- \n",
            " 0   x         957 non-null    object\n",
            " 1   x.1       957 non-null    object\n",
            " 2   x.2       957 non-null    object\n",
            " 3   x.3       957 non-null    object\n",
            " 4   o         957 non-null    object\n",
            " 5   o.1       957 non-null    object\n",
            " 6   x.4       957 non-null    object\n",
            " 7   o.2       957 non-null    object\n",
            " 8   o.3       957 non-null    object\n",
            " 9   positive  957 non-null    object\n",
            "dtypes: object(10)\n",
            "memory usage: 74.9+ KB\n"
          ],
          "name": "stdout"
        },
        {
          "output_type": "execute_result",
          "data": {
            "text/plain": [
              "x           0\n",
              "x.1         0\n",
              "x.2         0\n",
              "x.3         0\n",
              "o           0\n",
              "o.1         0\n",
              "x.4         0\n",
              "o.2         0\n",
              "o.3         0\n",
              "positive    0\n",
              "dtype: int64"
            ]
          },
          "metadata": {
            "tags": []
          },
          "execution_count": 279
        }
      ]
    },
    {
      "cell_type": "code",
      "metadata": {
        "id": "B1DOd5cr47sA",
        "outputId": "16178746-8e18-4118-8533-c552e86bdcb2",
        "colab": {
          "base_uri": "https://localhost:8080/",
          "height": 200
        }
      },
      "source": [
        "#rename columns\n",
        "df.rename(columns={'x': 'TLS',\n",
        "                   'x.1':'TMS',\n",
        "                   'x.2':'TRS',\n",
        "                   'x.3':'MLS',\n",
        "                   'o':'MMS',\n",
        "                   'o.1':'MRS', \n",
        "                   'x.4':'BLS',\n",
        "                   'o.2':'BMS',\n",
        "                   'o.3':'BRS',\n",
        "                   'positive': 'classes'}, inplace=True)\n",
        "df.head()"
      ],
      "execution_count": 280,
      "outputs": [
        {
          "output_type": "execute_result",
          "data": {
            "text/html": [
              "<div>\n",
              "<style scoped>\n",
              "    .dataframe tbody tr th:only-of-type {\n",
              "        vertical-align: middle;\n",
              "    }\n",
              "\n",
              "    .dataframe tbody tr th {\n",
              "        vertical-align: top;\n",
              "    }\n",
              "\n",
              "    .dataframe thead th {\n",
              "        text-align: right;\n",
              "    }\n",
              "</style>\n",
              "<table border=\"1\" class=\"dataframe\">\n",
              "  <thead>\n",
              "    <tr style=\"text-align: right;\">\n",
              "      <th></th>\n",
              "      <th>TLS</th>\n",
              "      <th>TMS</th>\n",
              "      <th>TRS</th>\n",
              "      <th>MLS</th>\n",
              "      <th>MMS</th>\n",
              "      <th>MRS</th>\n",
              "      <th>BLS</th>\n",
              "      <th>BMS</th>\n",
              "      <th>BRS</th>\n",
              "      <th>classes</th>\n",
              "    </tr>\n",
              "  </thead>\n",
              "  <tbody>\n",
              "    <tr>\n",
              "      <th>0</th>\n",
              "      <td>x</td>\n",
              "      <td>x</td>\n",
              "      <td>x</td>\n",
              "      <td>x</td>\n",
              "      <td>o</td>\n",
              "      <td>o</td>\n",
              "      <td>o</td>\n",
              "      <td>x</td>\n",
              "      <td>o</td>\n",
              "      <td>positive</td>\n",
              "    </tr>\n",
              "    <tr>\n",
              "      <th>1</th>\n",
              "      <td>x</td>\n",
              "      <td>x</td>\n",
              "      <td>x</td>\n",
              "      <td>x</td>\n",
              "      <td>o</td>\n",
              "      <td>o</td>\n",
              "      <td>o</td>\n",
              "      <td>o</td>\n",
              "      <td>x</td>\n",
              "      <td>positive</td>\n",
              "    </tr>\n",
              "    <tr>\n",
              "      <th>2</th>\n",
              "      <td>x</td>\n",
              "      <td>x</td>\n",
              "      <td>x</td>\n",
              "      <td>x</td>\n",
              "      <td>o</td>\n",
              "      <td>o</td>\n",
              "      <td>o</td>\n",
              "      <td>b</td>\n",
              "      <td>b</td>\n",
              "      <td>positive</td>\n",
              "    </tr>\n",
              "    <tr>\n",
              "      <th>3</th>\n",
              "      <td>x</td>\n",
              "      <td>x</td>\n",
              "      <td>x</td>\n",
              "      <td>x</td>\n",
              "      <td>o</td>\n",
              "      <td>o</td>\n",
              "      <td>b</td>\n",
              "      <td>o</td>\n",
              "      <td>b</td>\n",
              "      <td>positive</td>\n",
              "    </tr>\n",
              "    <tr>\n",
              "      <th>4</th>\n",
              "      <td>x</td>\n",
              "      <td>x</td>\n",
              "      <td>x</td>\n",
              "      <td>x</td>\n",
              "      <td>o</td>\n",
              "      <td>o</td>\n",
              "      <td>b</td>\n",
              "      <td>b</td>\n",
              "      <td>o</td>\n",
              "      <td>positive</td>\n",
              "    </tr>\n",
              "  </tbody>\n",
              "</table>\n",
              "</div>"
            ],
            "text/plain": [
              "  TLS TMS TRS MLS MMS MRS BLS BMS BRS   classes\n",
              "0   x   x   x   x   o   o   o   x   o  positive\n",
              "1   x   x   x   x   o   o   o   o   x  positive\n",
              "2   x   x   x   x   o   o   o   b   b  positive\n",
              "3   x   x   x   x   o   o   b   o   b  positive\n",
              "4   x   x   x   x   o   o   b   b   o  positive"
            ]
          },
          "metadata": {
            "tags": []
          },
          "execution_count": 280
        }
      ]
    },
    {
      "cell_type": "markdown",
      "metadata": {
        "id": "azNpwsMFa0T7"
      },
      "source": [
        "After Encoding:\n",
        "\n",
        "x = 2, o = 1, b = 0\n",
        "\n",
        "Classes:\n",
        "\n",
        "0 = negative, 1 = positive"
      ]
    },
    {
      "cell_type": "code",
      "metadata": {
        "id": "k0FvAwB52h9Z",
        "outputId": "6ab9e1e1-f138-48db-e976-754c55e9ccaa",
        "colab": {
          "base_uri": "https://localhost:8080/",
          "height": 200
        }
      },
      "source": [
        "#converting into numerical data\n",
        "le = LabelEncoder()\n",
        "\n",
        "df['TLS'] = le.fit_transform(df['TLS'])\n",
        "df['TMS'] = le.fit_transform(df['TMS'])\n",
        "df['TRS'] = le.fit_transform(df['TRS'])\n",
        "df['MLS'] = le.fit_transform(df['MLS'])\n",
        "df['MMS'] = le.fit_transform(df['MMS'])\n",
        "df['MRS'] = le.fit_transform(df['MRS'])\n",
        "df['BLS'] = le.fit_transform(df['BLS'])\n",
        "df['BMS'] = le.fit_transform(df['BMS'])\n",
        "df['BRS'] = le.fit_transform(df['BRS'])\n",
        "df['classes'] = le.fit_transform(df['classes'])\n",
        "\n",
        "df.head()"
      ],
      "execution_count": 281,
      "outputs": [
        {
          "output_type": "execute_result",
          "data": {
            "text/html": [
              "<div>\n",
              "<style scoped>\n",
              "    .dataframe tbody tr th:only-of-type {\n",
              "        vertical-align: middle;\n",
              "    }\n",
              "\n",
              "    .dataframe tbody tr th {\n",
              "        vertical-align: top;\n",
              "    }\n",
              "\n",
              "    .dataframe thead th {\n",
              "        text-align: right;\n",
              "    }\n",
              "</style>\n",
              "<table border=\"1\" class=\"dataframe\">\n",
              "  <thead>\n",
              "    <tr style=\"text-align: right;\">\n",
              "      <th></th>\n",
              "      <th>TLS</th>\n",
              "      <th>TMS</th>\n",
              "      <th>TRS</th>\n",
              "      <th>MLS</th>\n",
              "      <th>MMS</th>\n",
              "      <th>MRS</th>\n",
              "      <th>BLS</th>\n",
              "      <th>BMS</th>\n",
              "      <th>BRS</th>\n",
              "      <th>classes</th>\n",
              "    </tr>\n",
              "  </thead>\n",
              "  <tbody>\n",
              "    <tr>\n",
              "      <th>0</th>\n",
              "      <td>2</td>\n",
              "      <td>2</td>\n",
              "      <td>2</td>\n",
              "      <td>2</td>\n",
              "      <td>1</td>\n",
              "      <td>1</td>\n",
              "      <td>1</td>\n",
              "      <td>2</td>\n",
              "      <td>1</td>\n",
              "      <td>1</td>\n",
              "    </tr>\n",
              "    <tr>\n",
              "      <th>1</th>\n",
              "      <td>2</td>\n",
              "      <td>2</td>\n",
              "      <td>2</td>\n",
              "      <td>2</td>\n",
              "      <td>1</td>\n",
              "      <td>1</td>\n",
              "      <td>1</td>\n",
              "      <td>1</td>\n",
              "      <td>2</td>\n",
              "      <td>1</td>\n",
              "    </tr>\n",
              "    <tr>\n",
              "      <th>2</th>\n",
              "      <td>2</td>\n",
              "      <td>2</td>\n",
              "      <td>2</td>\n",
              "      <td>2</td>\n",
              "      <td>1</td>\n",
              "      <td>1</td>\n",
              "      <td>1</td>\n",
              "      <td>0</td>\n",
              "      <td>0</td>\n",
              "      <td>1</td>\n",
              "    </tr>\n",
              "    <tr>\n",
              "      <th>3</th>\n",
              "      <td>2</td>\n",
              "      <td>2</td>\n",
              "      <td>2</td>\n",
              "      <td>2</td>\n",
              "      <td>1</td>\n",
              "      <td>1</td>\n",
              "      <td>0</td>\n",
              "      <td>1</td>\n",
              "      <td>0</td>\n",
              "      <td>1</td>\n",
              "    </tr>\n",
              "    <tr>\n",
              "      <th>4</th>\n",
              "      <td>2</td>\n",
              "      <td>2</td>\n",
              "      <td>2</td>\n",
              "      <td>2</td>\n",
              "      <td>1</td>\n",
              "      <td>1</td>\n",
              "      <td>0</td>\n",
              "      <td>0</td>\n",
              "      <td>1</td>\n",
              "      <td>1</td>\n",
              "    </tr>\n",
              "  </tbody>\n",
              "</table>\n",
              "</div>"
            ],
            "text/plain": [
              "   TLS  TMS  TRS  MLS  MMS  MRS  BLS  BMS  BRS  classes\n",
              "0    2    2    2    2    1    1    1    2    1        1\n",
              "1    2    2    2    2    1    1    1    1    2        1\n",
              "2    2    2    2    2    1    1    1    0    0        1\n",
              "3    2    2    2    2    1    1    0    1    0        1\n",
              "4    2    2    2    2    1    1    0    0    1        1"
            ]
          },
          "metadata": {
            "tags": []
          },
          "execution_count": 281
        }
      ]
    },
    {
      "cell_type": "code",
      "metadata": {
        "id": "zpFxmPGw5yNI",
        "outputId": "168fd057-acf9-4f6f-edec-c0f3f85b5fe1",
        "colab": {
          "base_uri": "https://localhost:8080/",
          "height": 332
        }
      },
      "source": [
        "df.info()"
      ],
      "execution_count": 282,
      "outputs": [
        {
          "output_type": "stream",
          "text": [
            "<class 'pandas.core.frame.DataFrame'>\n",
            "RangeIndex: 957 entries, 0 to 956\n",
            "Data columns (total 10 columns):\n",
            " #   Column   Non-Null Count  Dtype\n",
            "---  ------   --------------  -----\n",
            " 0   TLS      957 non-null    int64\n",
            " 1   TMS      957 non-null    int64\n",
            " 2   TRS      957 non-null    int64\n",
            " 3   MLS      957 non-null    int64\n",
            " 4   MMS      957 non-null    int64\n",
            " 5   MRS      957 non-null    int64\n",
            " 6   BLS      957 non-null    int64\n",
            " 7   BMS      957 non-null    int64\n",
            " 8   BRS      957 non-null    int64\n",
            " 9   classes  957 non-null    int64\n",
            "dtypes: int64(10)\n",
            "memory usage: 74.9 KB\n"
          ],
          "name": "stdout"
        }
      ]
    },
    {
      "cell_type": "markdown",
      "metadata": {
        "id": "RCh64aqgkvmm"
      },
      "source": [
        "## Classification"
      ]
    },
    {
      "cell_type": "markdown",
      "metadata": {
        "id": "dV5Xw1TVk0sQ"
      },
      "source": [
        "#### Creating training and testing dataset"
      ]
    },
    {
      "cell_type": "code",
      "metadata": {
        "id": "0hkFjfwggqtO",
        "outputId": "3cb404c1-3ecd-41ac-9a83-efdd434de5fe",
        "colab": {
          "base_uri": "https://localhost:8080/",
          "height": 200
        }
      },
      "source": [
        "x_features = ['TLS', 'TMS', 'TRS', 'MLS', 'MMS', 'MRS', 'BLS', 'BMS', 'BRS']\n",
        "x = df[x_features]\n",
        "\n",
        "x.head()"
      ],
      "execution_count": 283,
      "outputs": [
        {
          "output_type": "execute_result",
          "data": {
            "text/html": [
              "<div>\n",
              "<style scoped>\n",
              "    .dataframe tbody tr th:only-of-type {\n",
              "        vertical-align: middle;\n",
              "    }\n",
              "\n",
              "    .dataframe tbody tr th {\n",
              "        vertical-align: top;\n",
              "    }\n",
              "\n",
              "    .dataframe thead th {\n",
              "        text-align: right;\n",
              "    }\n",
              "</style>\n",
              "<table border=\"1\" class=\"dataframe\">\n",
              "  <thead>\n",
              "    <tr style=\"text-align: right;\">\n",
              "      <th></th>\n",
              "      <th>TLS</th>\n",
              "      <th>TMS</th>\n",
              "      <th>TRS</th>\n",
              "      <th>MLS</th>\n",
              "      <th>MMS</th>\n",
              "      <th>MRS</th>\n",
              "      <th>BLS</th>\n",
              "      <th>BMS</th>\n",
              "      <th>BRS</th>\n",
              "    </tr>\n",
              "  </thead>\n",
              "  <tbody>\n",
              "    <tr>\n",
              "      <th>0</th>\n",
              "      <td>2</td>\n",
              "      <td>2</td>\n",
              "      <td>2</td>\n",
              "      <td>2</td>\n",
              "      <td>1</td>\n",
              "      <td>1</td>\n",
              "      <td>1</td>\n",
              "      <td>2</td>\n",
              "      <td>1</td>\n",
              "    </tr>\n",
              "    <tr>\n",
              "      <th>1</th>\n",
              "      <td>2</td>\n",
              "      <td>2</td>\n",
              "      <td>2</td>\n",
              "      <td>2</td>\n",
              "      <td>1</td>\n",
              "      <td>1</td>\n",
              "      <td>1</td>\n",
              "      <td>1</td>\n",
              "      <td>2</td>\n",
              "    </tr>\n",
              "    <tr>\n",
              "      <th>2</th>\n",
              "      <td>2</td>\n",
              "      <td>2</td>\n",
              "      <td>2</td>\n",
              "      <td>2</td>\n",
              "      <td>1</td>\n",
              "      <td>1</td>\n",
              "      <td>1</td>\n",
              "      <td>0</td>\n",
              "      <td>0</td>\n",
              "    </tr>\n",
              "    <tr>\n",
              "      <th>3</th>\n",
              "      <td>2</td>\n",
              "      <td>2</td>\n",
              "      <td>2</td>\n",
              "      <td>2</td>\n",
              "      <td>1</td>\n",
              "      <td>1</td>\n",
              "      <td>0</td>\n",
              "      <td>1</td>\n",
              "      <td>0</td>\n",
              "    </tr>\n",
              "    <tr>\n",
              "      <th>4</th>\n",
              "      <td>2</td>\n",
              "      <td>2</td>\n",
              "      <td>2</td>\n",
              "      <td>2</td>\n",
              "      <td>1</td>\n",
              "      <td>1</td>\n",
              "      <td>0</td>\n",
              "      <td>0</td>\n",
              "      <td>1</td>\n",
              "    </tr>\n",
              "  </tbody>\n",
              "</table>\n",
              "</div>"
            ],
            "text/plain": [
              "   TLS  TMS  TRS  MLS  MMS  MRS  BLS  BMS  BRS\n",
              "0    2    2    2    2    1    1    1    2    1\n",
              "1    2    2    2    2    1    1    1    1    2\n",
              "2    2    2    2    2    1    1    1    0    0\n",
              "3    2    2    2    2    1    1    0    1    0\n",
              "4    2    2    2    2    1    1    0    0    1"
            ]
          },
          "metadata": {
            "tags": []
          },
          "execution_count": 283
        }
      ]
    },
    {
      "cell_type": "code",
      "metadata": {
        "id": "rluTY6ZDyNDS",
        "outputId": "3243ca4f-39b2-4d5d-ab2d-6f408626d9de",
        "colab": {
          "base_uri": "https://localhost:8080/",
          "height": 128
        }
      },
      "source": [
        "y = df['classes']\n",
        "y.head()"
      ],
      "execution_count": 284,
      "outputs": [
        {
          "output_type": "execute_result",
          "data": {
            "text/plain": [
              "0    1\n",
              "1    1\n",
              "2    1\n",
              "3    1\n",
              "4    1\n",
              "Name: classes, dtype: int64"
            ]
          },
          "metadata": {
            "tags": []
          },
          "execution_count": 284
        }
      ]
    },
    {
      "cell_type": "code",
      "metadata": {
        "id": "VxmkzQjjzJUl",
        "outputId": "c4b2c9ae-fedb-40bd-d325-359d30d73595",
        "colab": {
          "base_uri": "https://localhost:8080/",
          "height": 276
        }
      },
      "source": [
        "x_train, x_test, y_train, y_test = train_test_split(x, y, test_size=0.3, random_state=3)\n",
        "\n",
        "print(x_train)"
      ],
      "execution_count": 285,
      "outputs": [
        {
          "output_type": "stream",
          "text": [
            "     TLS  TMS  TRS  MLS  MMS  MRS  BLS  BMS  BRS\n",
            "107    2    2    0    1    2    1    0    1    2\n",
            "938    0    0    1    2    0    1    2    2    1\n",
            "534    0    1    2    1    2    2    2    0    1\n",
            "236    2    0    2    0    2    1    1    1    2\n",
            "339    1    2    1    0    2    0    2    2    1\n",
            "..   ...  ...  ...  ...  ...  ...  ...  ...  ...\n",
            "952    1    2    2    2    1    1    1    2    2\n",
            "643    2    2    1    1    1    1    2    0    2\n",
            "249    2    0    1    2    1    1    2    0    2\n",
            "664    2    2    0    1    1    1    2    1    2\n",
            "874    1    0    0    1    2    2    1    0    2\n",
            "\n",
            "[669 rows x 9 columns]\n"
          ],
          "name": "stdout"
        }
      ]
    },
    {
      "source": [
        "**ANN**"
      ],
      "cell_type": "markdown",
      "metadata": {}
    },
    {
      "cell_type": "code",
      "metadata": {
        "id": "SAzoo53QsFFa",
        "outputId": "0fe4c6d6-5cb9-497c-8c89-583dddbe7140",
        "colab": {
          "base_uri": "https://localhost:8080/",
          "height": 74
        }
      },
      "source": [
        "nn = MLPClassifier(max_iter=1000, random_state=1)\n",
        "\n",
        "nn.fit(x_train, y_train)\n",
        "nn_pred = nn.predict(x_test)"
      ],
      "execution_count": 324,
      "outputs": [
        {
          "output_type": "stream",
          "text": [
            "/usr/local/lib/python3.6/dist-packages/sklearn/neural_network/_multilayer_perceptron.py:571: ConvergenceWarning: Stochastic Optimizer: Maximum iterations (1000) reached and the optimization hasn't converged yet.\n",
            "  % self.max_iter, ConvergenceWarning)\n"
          ],
          "name": "stderr"
        }
      ]
    },
    {
      "source": [
        "Evaluation metrics:"
      ],
      "cell_type": "markdown",
      "metadata": {
        "id": "6GWMzBr9PE6F"
      }
    },
    {
      "cell_type": "code",
      "metadata": {
        "id": "hXos1ghLwvHV",
        "outputId": "deb66269-c39d-44b2-937c-e095ef2f5ebf",
        "colab": {
          "base_uri": "https://localhost:8080/",
          "height": 221
        }
      },
      "source": [
        "# Classification Report, Accuracy\n",
        "\n",
        "print(\"Classification Report: \", classification_report(y_test, nn_pred))\n",
        "print(\"Testing accuracy\", accuracy_score(y_test, nn_pred))\n",
        "\n",
        "# Misclassified samples\n",
        "misclassified_count = (y_test != nn_pred).sum()\n",
        "print(\"Misclassified samples: \", misclassified_count)\n"
      ],
      "execution_count": 325,
      "outputs": [
        {
          "output_type": "stream",
          "text": [
            "Classification Report:                precision    recall  f1-score   support\n",
            "\n",
            "           0       0.84      0.81      0.83        97\n",
            "           1       0.91      0.92      0.91       191\n",
            "\n",
            "    accuracy                           0.89       288\n",
            "   macro avg       0.87      0.87      0.87       288\n",
            "weighted avg       0.88      0.89      0.88       288\n",
            "\n",
            "Testing accuracy 0.8854166666666666\n",
            "Misclassified samples:  33\n"
          ],
          "name": "stdout"
        }
      ]
    },
    {
      "cell_type": "code",
      "metadata": {
        "id": "VpP8av55xjdH",
        "outputId": "4a62b6d4-b088-4a1d-dd5b-80922a7551aa",
        "colab": {
          "base_uri": "https://localhost:8080/",
          "height": 295
        }
      },
      "source": [
        "#Confusion Matrix for MLP \n",
        "\n",
        "def show_cm(y_test, nn_pred, class_names=None, model_name=None):\n",
        "\n",
        "  cf = confusion_matrix(y_test, nn_pred)\n",
        "  plt.imshow(cf, cmap=plt.cm.Blues)\n",
        "\n",
        "  if model_name:\n",
        "    plt.title(\"Confusion Matrix: {}\".format(model_name))\n",
        "  else:\n",
        "    plt.title(\"Confusion Matrix\")\n",
        "    plt.ylabel(\"True Label\")\n",
        "    plt.xlabel(\"Predicted Label\")\n",
        "\n",
        "  if class_names:\n",
        "    tick_marks = np.arrange(len(class_names))\n",
        "    plt.xticks(tick_marks, class_names)\n",
        "    plt.yticks(tick_marks, class_names)\n",
        "  else:\n",
        "    class_names = set(y_test)\n",
        "    tick_marks = np.arange(len(class_names))\n",
        "    plt.xticks(tick_marks, class_names)\n",
        "    plt.yticks(tick_marks, class_names)\n",
        "\n",
        "  thresh = cf.max() / 2.0\n",
        "\n",
        "  for i, j in itertools.product(range(cf.shape[0]), range(cf.shape[1])):\n",
        "    plt.text(j, i, cf[i, j], horizontalalignment=\"center\", color=\"white\" \n",
        "             if cf[i,j] > thresh else \"black\",)\n",
        "    \n",
        "  plt.colorbar()\n",
        "\n",
        "show_cm(y_test, nn_pred)\n"
      ],
      "execution_count": 326,
      "outputs": [
        {
          "output_type": "display_data",
          "data": {
            "image/png": "[encoded data removed]",
            "text/plain": [
              "<Figure size 432x288 with 2 Axes>"
            ]
          },
          "metadata": {
            "tags": [],
            "needs_background": "light"
          }
        }
      ]
    },
    {
      "cell_type": "code",
      "metadata": {
        "id": "85UC0_leyzai"
      },
      "source": [
        "#ROC Curve for MLP\n",
        "\n",
        "def get_auc_scores(nn, x_train, x_test, y_train, y_test):\n",
        "  y_train_score = nn.predict_proba(x_train)[:, 1]\n",
        "  y_test_score = nn.predict_proba(x_test)[:, 1]\n",
        "\n",
        "  auc_train = roc_auc_score(y_train, y_train_score)\n",
        "  auc_test = roc_auc_score(y_test, y_test_score)\n",
        "\n",
        "  print(\"Training AUC: \", auc_train)\n",
        "  print(\"Testing AUC: \", auc_test)\n",
        "  \n",
        "  return y_test_score\n",
        "\n",
        "def plot_roc_curve(y_test, y_test_score):\n",
        "  fpr, tpr, _ = roc_curve(y_test, y_test_score)\n",
        "  roc_auc = auc(fpr, tpr)\n",
        "\n",
        "  plt.figure()\n",
        "  plt.plot(fpr, tpr, label=\"ROC curve (area = %0.2f)\" % roc_auc)\n",
        "  plt.plot([0, 1], [0, 1], \"k-\")\n",
        "  plt.xlim([0.0, 1.0])\n",
        "  plt.ylim([0.0, 1.05])\n",
        "  plt.xlabel(\"False Positive Rate\")\n",
        "  plt.ylabel(\"True Positive Rate\")\n",
        "  plt.title(\"Receiver Operating Characteristic Curve\")\n",
        "  plt.legend(loc=\"lower right\")\n",
        "  plt.show()\n"
      ],
      "execution_count": 327,
      "outputs": []
    },
    {
      "cell_type": "code",
      "metadata": {
        "id": "LKVXl5J-zzOF",
        "outputId": "e7d22b32-5ca2-4910-9522-2b03c543899e",
        "colab": {
          "base_uri": "https://localhost:8080/",
          "height": 332
        }
      },
      "source": [
        "plot_roc_curve(y_test, get_auc_scores(nn, x_train, x_test, y_train, y_test))"
      ],
      "execution_count": 328,
      "outputs": [
        {
          "output_type": "stream",
          "text": [
            "Training AUC:  0.9999705853515051\n",
            "Testing AUC:  0.9428401791979274\n"
          ],
          "name": "stdout"
        },
        {
          "output_type": "display_data",
          "data": {
            "image/png": "[encoded data removed]",
            "text/plain": [
              "<Figure size 432x288 with 1 Axes>"
            ]
          },
          "metadata": {
            "tags": [],
            "needs_background": "light"
          }
        }
      ]
    },
    {
      "cell_type": "code",
      "metadata": {
        "id": "-wGDZGhbz85f",
        "outputId": "f73375df-fe4e-4426-fc2c-ba16f64b7d25",
        "colab": {
          "base_uri": "https://localhost:8080/",
          "height": 54
        }
      },
      "source": [
        "# Grid Searching for Hyperparameter Tuning\n",
        "\n",
        "parameters = {'solver': ['lbfgs', 'adam'], 'max_iter': [1000,1500,1600,1700,2000], 'hidden_layer_sizes':np.arange(5, 15), \n",
        "              'activation': ['relu', 'logistic, tanh']}\n",
        "\n",
        "nn_grid = GridSearchCV(MLPClassifier(), parameters, n_jobs=-1, cv=10)\n",
        "nn_grid.fit (x_train, y_train)\n",
        "\n",
        "print(\"Best Parameters: \", nn_grid.best_params_)\n",
        "print(\"Best Score: \", nn_grid.best_score_)"
      ],
      "execution_count": 359,
      "outputs": [
        {
          "output_type": "stream",
          "text": [
            "Best Parameters:  {'activation': 'relu', 'hidden_layer_sizes': 11, 'max_iter': 1700, 'solver': 'lbfgs'}\n",
            "Best Score:  0.8654454997738579\n"
          ],
          "name": "stdout"
        }
      ]
    },
    {
      "cell_type": "markdown",
      "metadata": {
        "id": "hzuFuEQgtKfu"
      },
      "source": [
        "### ANN after Grid Searching"
      ]
    },
    {
      "cell_type": "code",
      "metadata": {
        "id": "PsU0ZU-BtOUc"
      },
      "source": [
        "nn_best = MLPClassifier(activation='relu', hidden_layer_sizes=14,max_iter=1700, solver='lbfgs')\n",
        "\n",
        "nn_best.fit(x_train, y_train)\n",
        "nn_best_pred = nn_best.predict(x_test)\n"
      ],
      "execution_count": 330,
      "outputs": []
    },
    {
      "cell_type": "markdown",
      "metadata": {
        "id": "MJwYZtBgtxC-"
      },
      "source": [
        "Evaluation Metrics"
      ]
    },
    {
      "cell_type": "code",
      "metadata": {
        "id": "QO0Le9gMtvyZ",
        "outputId": "6251add2-6f4a-48cf-b0c0-969c32a6f251",
        "colab": {
          "base_uri": "https://localhost:8080/",
          "height": 202
        }
      },
      "source": [
        "# Classification Report\n",
        "\n",
        "print(\"Classification Report: \", classification_report(y_test, nn_best_pred))\n",
        "print(\"Accuracy: \", accuracy_score(y_test, nn_best_pred))"
      ],
      "execution_count": 331,
      "outputs": [
        {
          "output_type": "stream",
          "text": [
            "Classification Report:                precision    recall  f1-score   support\n",
            "\n",
            "           0       0.76      0.80      0.78        97\n",
            "           1       0.90      0.87      0.88       191\n",
            "\n",
            "    accuracy                           0.85       288\n",
            "   macro avg       0.83      0.84      0.83       288\n",
            "weighted avg       0.85      0.85      0.85       288\n",
            "\n",
            "Accuracy:  0.8472222222222222\n"
          ],
          "name": "stdout"
        }
      ]
    },
    {
      "cell_type": "code",
      "metadata": {
        "id": "LYlz1i75u3Kh",
        "outputId": "c75d042f-cd68-481f-c3bf-74b5dfd07a33",
        "colab": {
          "base_uri": "https://localhost:8080/",
          "height": 295
        }
      },
      "source": [
        "#Confusion Matrix  \n",
        "\n",
        "def show_cm(y_test, nn_best_pred, class_names=None, model_name=None):\n",
        "\n",
        "  cf = confusion_matrix(y_test, nn_best_pred)\n",
        "  plt.imshow(cf, cmap=plt.cm.Blues)\n",
        "\n",
        "  if model_name:\n",
        "    plt.title(\"Confusion Matrix: {}\".format(model_name))\n",
        "  else:\n",
        "    plt.title(\"Confusion Matrix\")\n",
        "    plt.ylabel(\"True Label\")\n",
        "    plt.xlabel(\"Predicted Label\")\n",
        "\n",
        "  if class_names:\n",
        "    tick_marks = np.arrange(len(class_names))\n",
        "    plt.xticks(tick_marks, class_names)\n",
        "    plt.yticks(tick_marks, class_names)\n",
        "  else:\n",
        "    class_names = set(y_test)\n",
        "    tick_marks = np.arange(len(class_names))\n",
        "    plt.xticks(tick_marks, class_names)\n",
        "    plt.yticks(tick_marks, class_names)\n",
        "\n",
        "  thresh = cf.max() / 2.0\n",
        "\n",
        "  for i, j in itertools.product(range(cf.shape[0]), range(cf.shape[1])):\n",
        "    plt.text(j, i, cf[i, j], horizontalalignment=\"center\", color=\"white\" \n",
        "             if cf[i,j] > thresh else \"black\",)\n",
        "    \n",
        "  plt.colorbar()\n",
        "\n",
        "show_cm(y_test, nn_best_pred)\n"
      ],
      "execution_count": 332,
      "outputs": [
        {
          "output_type": "display_data",
          "data": {
            "image/png": "[encoded data removed]",
            "text/plain": [
              "<Figure size 432x288 with 2 Axes>"
            ]
          },
          "metadata": {
            "tags": [],
            "needs_background": "light"
          }
        }
      ]
    },
    {
      "cell_type": "code",
      "metadata": {
        "id": "zBpmIEcFvAej"
      },
      "source": [
        "#ROC Curve \n",
        "\n",
        "def get_auc_scores(nn_best, x_train, x_test, y_train, y_test):\n",
        "  y_train_score = nn_best.predict_proba(x_train)[:, 1]\n",
        "  y_test_score = nn_best.predict_proba(x_test)[:, 1]\n",
        "\n",
        "  auc_train = roc_auc_score(y_train, y_train_score)\n",
        "  auc_test = roc_auc_score(y_test, y_test_score)\n",
        "\n",
        "  print(\"Training AUC: \", auc_train)\n",
        "  print(\"Testing AUC: \", auc_test)\n",
        "  \n",
        "  return y_test_score\n",
        "\n",
        "def plot_roc_curve(y_test, y_test_score):\n",
        "  fpr, tpr, _ = roc_curve(y_test, y_test_score)\n",
        "  roc_auc = auc(fpr, tpr)\n",
        "\n",
        "  plt.figure()\n",
        "  plt.plot(fpr, tpr, label=\"ROC curve (area = %0.2f)\" % roc_auc)\n",
        "  plt.plot([0, 1], [0, 1], \"k-\")\n",
        "  plt.xlim([0.0, 1.0])\n",
        "  plt.ylim([0.0, 1.05])\n",
        "  plt.xlabel(\"False Positive Rate\")\n",
        "  plt.ylabel(\"True Positive Rate\")\n",
        "  plt.title(\"Receiver Operating Characteristic Curve\")\n",
        "  plt.legend(loc=\"lower right\")\n",
        "  plt.show()\n"
      ],
      "execution_count": 333,
      "outputs": []
    },
    {
      "cell_type": "code",
      "metadata": {
        "id": "LgbXG9X2vLli",
        "outputId": "15fcfc64-090d-42b5-ef0c-46eee1ed833f",
        "colab": {
          "base_uri": "https://localhost:8080/",
          "height": 332
        }
      },
      "source": [
        "plot_roc_curve(y_test, get_auc_scores(nn_best, x_train, x_test, y_train, y_test))"
      ],
      "execution_count": 334,
      "outputs": [
        {
          "output_type": "stream",
          "text": [
            "Training AUC:  1.0\n",
            "Testing AUC:  0.8891887515517892\n"
          ],
          "name": "stdout"
        },
        {
          "output_type": "display_data",
          "data": {
            "image/png": "[encoded data removed]",
            "text/plain": [
              "<Figure size 432x288 with 1 Axes>"
            ]
          },
          "metadata": {
            "tags": [],
            "needs_background": "light"
          }
        }
      ]
    },
    {
      "cell_type": "markdown",
      "metadata": {
        "id": "uaKAeD3MIjdC"
      },
      "source": [
        "### SVC"
      ]
    },
    {
      "cell_type": "code",
      "metadata": {
        "id": "SM4sVfGIImy8"
      },
      "source": [
        "svc = SVC(probability=True)\n",
        "\n",
        "svc.fit(x_train, y_train)\n",
        "svc_pred = svc.predict(x_test)"
      ],
      "execution_count": 335,
      "outputs": []
    },
    {
      "cell_type": "markdown",
      "metadata": {
        "id": "xlqmFQfpPPjd"
      },
      "source": [
        "Evaluation Metrics:"
      ]
    },
    {
      "cell_type": "code",
      "metadata": {
        "id": "8bfgikh4Iw-t",
        "outputId": "8364d0bc-4d1e-454b-be47-47aa479a4224",
        "colab": {
          "base_uri": "https://localhost:8080/",
          "height": 221
        }
      },
      "source": [
        "# Classification Report\n",
        "\n",
        "print(\"Classification Report: \", classification_report(y_test, svc_pred))\n",
        "print(\"Accuracy: \", accuracy_score(y_test, svc_pred))\n",
        "\n",
        "#Misclassified samples\n",
        "misclassified_count = (y_test != svc_pred).sum()\n",
        "print(\"Misclassified samples: \", misclassified_count)"
      ],
      "execution_count": 336,
      "outputs": [
        {
          "output_type": "stream",
          "text": [
            "Classification Report:                precision    recall  f1-score   support\n",
            "\n",
            "           0       0.92      0.70      0.80        97\n",
            "           1       0.86      0.97      0.91       191\n",
            "\n",
            "    accuracy                           0.88       288\n",
            "   macro avg       0.89      0.83      0.85       288\n",
            "weighted avg       0.88      0.88      0.87       288\n",
            "\n",
            "Accuracy:  0.8784722222222222\n",
            "Misclassified samples:  35\n"
          ],
          "name": "stdout"
        }
      ]
    },
    {
      "cell_type": "code",
      "metadata": {
        "id": "MEymEHgLI1Em",
        "outputId": "cde5c3cc-92e9-4cc9-afa1-29de90d96c1c",
        "colab": {
          "base_uri": "https://localhost:8080/",
          "height": 295
        }
      },
      "source": [
        "#Confusion Matrix for SVC \n",
        "\n",
        "def show_cm(y_test, svc_pred, class_names=None, model_name=None):\n",
        "\n",
        "  cf = confusion_matrix(y_test, svc_pred)\n",
        "  plt.imshow(cf, cmap=plt.cm.Blues)\n",
        "\n",
        "  if model_name:\n",
        "    plt.title(\"Confusion Matrix: {}\".format(model_name))\n",
        "  else:\n",
        "    plt.title(\"Confusion Matrix\")\n",
        "    plt.ylabel(\"True Label\")\n",
        "    plt.xlabel(\"Predicted Label\")\n",
        "\n",
        "  if class_names:\n",
        "    tick_marks = np.arrange(len(class_names))\n",
        "    plt.xticks(tick_marks, class_names)\n",
        "    plt.yticks(tick_marks, class_names)\n",
        "  else:\n",
        "    class_names = set(y_test)\n",
        "    tick_marks = np.arange(len(class_names))\n",
        "    plt.xticks(tick_marks, class_names)\n",
        "    plt.yticks(tick_marks, class_names)\n",
        "\n",
        "  thresh = cf.max() / 2.0\n",
        "\n",
        "  for i, j in itertools.product(range(cf.shape[0]), range(cf.shape[1])):\n",
        "    plt.text(j, i, cf[i, j], horizontalalignment=\"center\", color=\"white\" \n",
        "             if cf[i,j] > thresh else \"black\",)\n",
        "    \n",
        "  plt.colorbar()\n",
        "\n",
        "show_cm(y_test, svc_pred)\n"
      ],
      "execution_count": 337,
      "outputs": [
        {
          "output_type": "display_data",
          "data": {
            "image/png": "[encoded data removed]",
            "text/plain": [
              "<Figure size 432x288 with 2 Axes>"
            ]
          },
          "metadata": {
            "tags": [],
            "needs_background": "light"
          }
        }
      ]
    },
    {
      "cell_type": "code",
      "metadata": {
        "id": "9zpSzrN1I4-y"
      },
      "source": [
        "#ROC Curve for SVC\n",
        "\n",
        "def get_auc_scores(svc, x_train, x_test, y_train, y_test):\n",
        "  y_train_score = svc.predict_proba(x_train)[:, 1]\n",
        "  y_test_score = svc.predict_proba(x_test)[:, 1]\n",
        "\n",
        "  auc_train = roc_auc_score(y_train, y_train_score)\n",
        "  auc_test = roc_auc_score(y_test, y_test_score)\n",
        "\n",
        "  print(\"Training AUC: \", auc_train)\n",
        "  print(\"Testing AUC: \", auc_test)\n",
        "  \n",
        "  return y_test_score\n",
        "\n",
        "def plot_roc_curve(y_test, y_test_score):\n",
        "  fpr, tpr, _ = roc_curve(y_test, y_test_score)\n",
        "  roc_auc = auc(fpr, tpr)\n",
        "\n",
        "  plt.figure()\n",
        "  plt.plot(fpr, tpr, label=\"ROC curve (area = %0.2f)\" % roc_auc)\n",
        "  plt.plot([0, 1], [0, 1], \"k-\")\n",
        "  plt.xlim([0.0, 1.0])\n",
        "  plt.ylim([0.0, 1.05])\n",
        "  plt.xlabel(\"False Positive Rate\")\n",
        "  plt.ylabel(\"True Positive Rate\")\n",
        "  plt.title(\"Receiver Operating Characteristic Curve\")\n",
        "  plt.legend(loc=\"lower right\")\n",
        "  plt.show()\n"
      ],
      "execution_count": 338,
      "outputs": []
    },
    {
      "cell_type": "code",
      "metadata": {
        "id": "sjqJihBSI8M-",
        "outputId": "622db9b7-4de4-4af3-ffd1-5c95d6c6e521",
        "colab": {
          "base_uri": "https://localhost:8080/",
          "height": 332
        }
      },
      "source": [
        "plot_roc_curve(y_test, get_auc_scores(svc, x_train, x_test, y_train, y_test))"
      ],
      "execution_count": 339,
      "outputs": [
        {
          "output_type": "stream",
          "text": [
            "Training AUC:  0.9903912148249828\n",
            "Testing AUC:  0.9525557294759001\n"
          ],
          "name": "stdout"
        },
        {
          "output_type": "display_data",
          "data": {
            "image/png": "[encoded data removed]",
            "text/plain": [
              "<Figure size 432x288 with 1 Axes>"
            ]
          },
          "metadata": {
            "tags": [],
            "needs_background": "light"
          }
        }
      ]
    },
    {
      "cell_type": "markdown",
      "metadata": {
        "id": "YggDP6h-7B1y"
      },
      "source": [
        "Grid Searching for SVC"
      ]
    },
    {
      "cell_type": "code",
      "metadata": {
        "id": "lOjE3r--7A3G",
        "outputId": "21ad74b9-f323-4021-ddf3-62fcdbbd761e",
        "colab": {
          "base_uri": "https://localhost:8080/",
          "height": 54
        }
      },
      "source": [
        "# Grid Searching for Hyperparameter Tuning\n",
        "\n",
        "parameters = {'kernel': ['linear', 'poly', 'rbf'], 'C': [1, 10, 100], 'degree': [1, 2, 3],'decision_function_shape': ['ovo', 'ovr']}\n",
        "\n",
        "svc_grid = GridSearchCV(SVC(), parameters, cv=5)\n",
        "svc_grid.fit (x_train, y_train)\n",
        "\n",
        "print(\"Best Parameters: \", svc_grid.best_params_)\n",
        "print(\"Best Score: \", svc_grid.best_score_)"
      ],
      "execution_count": 355,
      "outputs": [
        {
          "output_type": "stream",
          "text": [
            "Best Parameters:  {'C': 100, 'decision_function_shape': 'ovo', 'degree': 1, 'kernel': 'rbf'}\n",
            "Best Score:  0.9626416788239256\n"
          ],
          "name": "stdout"
        }
      ]
    },
    {
      "cell_type": "markdown",
      "metadata": {
        "id": "gBx5z-oQ-pP-"
      },
      "source": [
        "### SVC after Grid Searching \n"
      ]
    },
    {
      "cell_type": "code",
      "metadata": {
        "id": "K-puBCu5_sbk"
      },
      "source": [
        "svc_best = SVC(kernel='rbf', C=100, decision_function_shape='ovo', degree=1, probability=True)\n",
        "\n",
        "svc_best.fit(x_train, y_train)\n",
        "svc_best_pred = svc_best.predict(x_test)"
      ],
      "execution_count": 360,
      "outputs": []
    },
    {
      "cell_type": "markdown",
      "metadata": {
        "id": "z1AS5ow4AMjF"
      },
      "source": [
        "Evaluation Metrics"
      ]
    },
    {
      "cell_type": "code",
      "metadata": {
        "id": "qUE7khBoAMBW",
        "outputId": "ab84ce4d-f10b-4c22-f8b7-67f85697241c",
        "colab": {
          "base_uri": "https://localhost:8080/",
          "height": 221
        }
      },
      "source": [
        "# Classification Report\n",
        "\n",
        "print(\"Classification Report: \", classification_report(y_test, svc_best_pred))\n",
        "print(\"Accuracy: \", accuracy_score(y_test, svc_best_pred))\n",
        "\n",
        "# Misclassified samples\n",
        "misclassified_count = (y_test != svc_best_pred).sum()\n",
        "print(\"Misclassified samples: \", misclassified_count)"
      ],
      "execution_count": 361,
      "outputs": [
        {
          "output_type": "stream",
          "text": [
            "Classification Report:                precision    recall  f1-score   support\n",
            "\n",
            "           0       1.00      0.99      0.99        97\n",
            "           1       0.99      1.00      1.00       191\n",
            "\n",
            "    accuracy                           1.00       288\n",
            "   macro avg       1.00      0.99      1.00       288\n",
            "weighted avg       1.00      1.00      1.00       288\n",
            "\n",
            "Accuracy:  0.9965277777777778\n",
            "Misclassified samples:  1\n"
          ],
          "name": "stdout"
        }
      ]
    },
    {
      "cell_type": "code",
      "metadata": {
        "id": "3Xgn_L16AhVm",
        "outputId": "5d0ee000-9e80-41b1-8001-35adfcb7c6f1",
        "colab": {
          "base_uri": "https://localhost:8080/",
          "height": 295
        }
      },
      "source": [
        "#Confusion Matrix for SVC \n",
        "\n",
        "def show_cm(y_test, svc_best_pred, class_names=None, model_name=None):\n",
        "\n",
        "  cf = confusion_matrix(y_test, svc_best_pred)\n",
        "  plt.imshow(cf, cmap=plt.cm.Blues)\n",
        "\n",
        "  if model_name:\n",
        "    plt.title(\"Confusion Matrix: {}\".format(model_name))\n",
        "  else:\n",
        "    plt.title(\"Confusion Matrix\")\n",
        "    plt.ylabel(\"True Label\")\n",
        "    plt.xlabel(\"Predicted Label\")\n",
        "\n",
        "  if class_names:\n",
        "    tick_marks = np.arrange(len(class_names))\n",
        "    plt.xticks(tick_marks, class_names)\n",
        "    plt.yticks(tick_marks, class_names)\n",
        "  else:\n",
        "    class_names = set(y_test)\n",
        "    tick_marks = np.arange(len(class_names))\n",
        "    plt.xticks(tick_marks, class_names)\n",
        "    plt.yticks(tick_marks, class_names)\n",
        "\n",
        "  thresh = cf.max() / 2.0\n",
        "\n",
        "  for i, j in itertools.product(range(cf.shape[0]), range(cf.shape[1])):\n",
        "    plt.text(j, i, cf[i, j], horizontalalignment=\"center\", color=\"white\" \n",
        "             if cf[i,j] > thresh else \"black\",)\n",
        "    \n",
        "  plt.colorbar()\n",
        "\n",
        "show_cm(y_test, svc_best_pred)\n"
      ],
      "execution_count": 362,
      "outputs": [
        {
          "output_type": "display_data",
          "data": {
            "image/png": "[encoded data removed]",
            "text/plain": [
              "<Figure size 432x288 with 2 Axes>"
            ]
          },
          "metadata": {
            "tags": [],
            "needs_background": "light"
          }
        }
      ]
    },
    {
      "cell_type": "code",
      "metadata": {
        "id": "EfaE5YE2BS_L"
      },
      "source": [
        "#ROC Curve for SVC\n",
        "\n",
        "def get_auc_scores(svc_best, x_train, x_test, y_train, y_test):\n",
        "  y_train_score = svc_best.predict_proba(x_train)[:, 1]\n",
        "  y_test_score = svc_best.predict_proba(x_test)[:, 1]\n",
        "\n",
        "  auc_train = roc_auc_score(y_train, y_train_score)\n",
        "  auc_test = roc_auc_score(y_test, y_test_score)\n",
        "\n",
        "  print(\"Training AUC: \", auc_train)\n",
        "  print(\"Testing AUC: \", auc_test)\n",
        "  \n",
        "  return y_test_score\n",
        "\n",
        "def plot_roc_curve(y_test, y_test_score):\n",
        "  fpr, tpr, _ = roc_curve(y_test, y_test_score)\n",
        "  roc_auc = auc(fpr, tpr)\n",
        "\n",
        "  plt.figure()\n",
        "  plt.plot(fpr, tpr, label=\"ROC curve (area = %0.2f)\" % roc_auc)\n",
        "  plt.plot([0, 1], [0, 1], \"k-\")\n",
        "  plt.xlim([0.0, 1.0])\n",
        "  plt.ylim([0.0, 1.05])\n",
        "  plt.xlabel(\"False Positive Rate\")\n",
        "  plt.ylabel(\"True Positive Rate\")\n",
        "  plt.title(\"Receiver Operating Characteristic Curve\")\n",
        "  plt.legend(loc=\"lower right\")\n",
        "  plt.show()\n"
      ],
      "execution_count": 363,
      "outputs": []
    },
    {
      "cell_type": "code",
      "metadata": {
        "id": "emIsB5MlBaoC",
        "outputId": "e2edfcd4-8e13-463b-c4d1-3941e613fae3",
        "colab": {
          "base_uri": "https://localhost:8080/",
          "height": 341
        }
      },
      "source": [
        "plot_roc_curve(y_test, get_auc_scores(svc_best, x_train, x_test, y_train, y_test))"
      ],
      "execution_count": 364,
      "outputs": [
        {
          "output_type": "stream",
          "text": [
            "Training AUC:  1.0\n",
            "Testing AUC:  1.0\n"
          ],
          "name": "stdout"
        },
        {
          "output_type": "error",
          "ename": "TypeError",
          "evalue": "ignored",
          "traceback": [
            "\u001b[0;31m---------------------------------------------------------------------------\u001b[0m",
            "\u001b[0;31mTypeError\u001b[0m                                 Traceback (most recent call last)",
            "\u001b[0;32m<ipython-input-364-cb9201fb1444>\u001b[0m in \u001b[0;36m<module>\u001b[0;34m()\u001b[0m\n\u001b[0;32m----> 1\u001b[0;31m \u001b[0mplot_roc_curve\u001b[0m\u001b[0;34m(\u001b[0m\u001b[0my_test\u001b[0m\u001b[0;34m,\u001b[0m \u001b[0mget_auc_scores\u001b[0m\u001b[0;34m(\u001b[0m\u001b[0msvc_best\u001b[0m\u001b[0;34m,\u001b[0m \u001b[0mx_train\u001b[0m\u001b[0;34m,\u001b[0m \u001b[0mx_test\u001b[0m\u001b[0;34m,\u001b[0m \u001b[0my_train\u001b[0m\u001b[0;34m,\u001b[0m \u001b[0my_test\u001b[0m\u001b[0;34m)\u001b[0m\u001b[0;34m)\u001b[0m\u001b[0;34m\u001b[0m\u001b[0;34m\u001b[0m\u001b[0m\n\u001b[0m",
            "\u001b[0;32m<ipython-input-363-bc106eafebc6>\u001b[0m in \u001b[0;36mplot_roc_curve\u001b[0;34m(y_test, y_test_score)\u001b[0m\n\u001b[1;32m     15\u001b[0m \u001b[0;32mdef\u001b[0m \u001b[0mplot_roc_curve\u001b[0m\u001b[0;34m(\u001b[0m\u001b[0my_test\u001b[0m\u001b[0;34m,\u001b[0m \u001b[0my_test_score\u001b[0m\u001b[0;34m)\u001b[0m\u001b[0;34m:\u001b[0m\u001b[0;34m\u001b[0m\u001b[0;34m\u001b[0m\u001b[0m\n\u001b[1;32m     16\u001b[0m   \u001b[0mfpr\u001b[0m\u001b[0;34m,\u001b[0m \u001b[0mtpr\u001b[0m\u001b[0;34m,\u001b[0m \u001b[0m_\u001b[0m \u001b[0;34m=\u001b[0m \u001b[0mroc_curve\u001b[0m\u001b[0;34m(\u001b[0m\u001b[0my_test\u001b[0m\u001b[0;34m,\u001b[0m \u001b[0my_test_score\u001b[0m\u001b[0;34m)\u001b[0m\u001b[0;34m\u001b[0m\u001b[0;34m\u001b[0m\u001b[0m\n\u001b[0;32m---> 17\u001b[0;31m   \u001b[0mroc_auc\u001b[0m \u001b[0;34m=\u001b[0m \u001b[0mauc\u001b[0m\u001b[0;34m(\u001b[0m\u001b[0mfpr\u001b[0m\u001b[0;34m,\u001b[0m \u001b[0mtpr\u001b[0m\u001b[0;34m)\u001b[0m\u001b[0;34m\u001b[0m\u001b[0;34m\u001b[0m\u001b[0m\n\u001b[0m\u001b[1;32m     18\u001b[0m \u001b[0;34m\u001b[0m\u001b[0m\n\u001b[1;32m     19\u001b[0m   \u001b[0mplt\u001b[0m\u001b[0;34m.\u001b[0m\u001b[0mfigure\u001b[0m\u001b[0;34m(\u001b[0m\u001b[0;34m)\u001b[0m\u001b[0;34m\u001b[0m\u001b[0;34m\u001b[0m\u001b[0m\n",
            "\u001b[0;31mTypeError\u001b[0m: 'numpy.float64' object is not callable"
          ]
        }
      ]
    },
    {
      "cell_type": "code",
      "metadata": {
        "id": "Hc_rhrUzBDfc",
        "outputId": "8764d5b5-e1d4-43f0-894c-b81943cb8a71",
        "colab": {
          "base_uri": "https://localhost:8080/",
          "height": 110
        }
      },
      "source": [
        "#Cross validation \n",
        "\n",
        "#accuracy\n",
        "cv_accuracy = cross_val_score(svc_best, x, y, cv=10)\n",
        "print(\"Cross validation accuracy: \", cv_accuracy.mean())\n",
        "\n",
        "#AUC\n",
        "cv_auc = cross_val_score(svc_best, x, y, cv=10, scoring='roc_auc')\n",
        "print(\"Cross validation AUC: \", cv_auc)\n",
        "\n",
        "#Recall\n",
        "cv_recall = cross_val_score(svc_best, x, y, cv=10, scoring='recall')\n",
        "print(\"Cross validation recall: \", cv_recall)\n"
      ],
      "execution_count": 365,
      "outputs": [
        {
          "output_type": "stream",
          "text": [
            "Cross validation accuracy:  0.9425328947368421\n",
            "Cross validation AUC:  [0.87397787 0.98893699 1.         0.998076   1.         1.\n",
            " 0.99810247 1.         1.         1.        ]\n",
            "Cross validation recall:  [0.57142857 0.96825397 1.         0.98412698 1.         0.96774194\n",
            " 1.         1.         1.         1.        ]\n"
          ],
          "name": "stdout"
        }
      ]
    },
    {
      "cell_type": "markdown",
      "metadata": {
        "id": "UBRnaSW8O1-K"
      },
      "source": [
        "### Comparison Between All Models"
      ]
    },
    {
      "cell_type": "code",
      "metadata": {
        "id": "CY9uGMjhO6D-",
        "outputId": "420a32a4-f8dc-4809-e552-42a61186ff91",
        "colab": {
          "base_uri": "https://localhost:8080/",
          "height": 315
        }
      },
      "source": [
        "#display all metrics in a pretty table\n",
        "\n",
        "table = PrettyTable()\n",
        "\n",
        "table.field_names = [\"Model\", \"Accuracy\", \"AUC\"]\n",
        "\n",
        "models = [DecisionTreeClassifier(criterion='entropy'),\n",
        "          DecisionTreeClassifier(criterion='gini'),\n",
        "          RandomForestClassifier(criterion='entropy'),\n",
        "          RandomForestClassifier(criterion='gini'),\n",
        "          KNeighborsClassifier(n_neighbors=6),\n",
        "          MLPClassifier(max_iter=1000, random_state=1),\n",
        "          nn_best,\n",
        "          SVC(probability=True),\n",
        "          svc_best         \n",
        "]\n",
        "\n",
        "#Defining AUC Score ROC Curve for Decision Tree\n",
        "\n",
        "def get_auc_score(clf, x_train, x_test, y_train, y_test):\n",
        "  y_train_score = clf.predict_proba(x_train)[:, 1]\n",
        "  y_test_score = clf.predict_proba(x_test)[:, 1]\n",
        "\n",
        "  auc_train = roc_auc_score(y_train, y_train_score)\n",
        "  auc_test = roc_auc_score(y_test, y_test_score)\n",
        "\n",
        "  return auc_test\n",
        "\n",
        "\n",
        "for model in models:\n",
        "  model.fit(x_train, y_train)\n",
        "  y_res = model.predict(x_test)\n",
        "  accuracy = accuracy_score(y_test, y_res)\n",
        "  auc = get_auc_score(model, x_train, x_test, y_train, y_test)\n",
        "  \n",
        "  table.add_row([type(model).__name__, accuracy, auc])\n",
        "  \n",
        "print(table)"
      ],
      "execution_count": 366,
      "outputs": [
        {
          "output_type": "stream",
          "text": [
            "/usr/local/lib/python3.6/dist-packages/sklearn/neural_network/_multilayer_perceptron.py:571: ConvergenceWarning: Stochastic Optimizer: Maximum iterations (1000) reached and the optimization hasn't converged yet.\n",
            "  % self.max_iter, ConvergenceWarning)\n"
          ],
          "name": "stderr"
        },
        {
          "output_type": "stream",
          "text": [
            "+------------------------+--------------------+--------------------+\n",
            "|         Model          |      Accuracy      |        AUC         |\n",
            "+------------------------+--------------------+--------------------+\n",
            "| DecisionTreeClassifier |      0.90625       | 0.898877314190101  |\n",
            "| DecisionTreeClassifier |      0.90625       | 0.8938036379338263 |\n",
            "| RandomForestClassifier | 0.9444444444444444 | 0.9957089652938954 |\n",
            "| RandomForestClassifier | 0.9583333333333334 | 0.9958439034922006 |\n",
            "|  KNeighborsClassifier  | 0.8298611111111112 | 0.8313542397581907 |\n",
            "|     MLPClassifier      | 0.8854166666666666 | 0.9428401791979274 |\n",
            "|     MLPClassifier      | 0.8229166666666666 | 0.8761807092351703 |\n",
            "|          SVC           | 0.8784722222222222 | 0.9525557294759001 |\n",
            "|          SVC           | 0.9965277777777778 |        1.0         |\n",
            "+------------------------+--------------------+--------------------+\n"
          ],
          "name": "stdout"
        }
      ]
    },
    {
      "cell_type": "markdown",
      "metadata": {
        "id": "StAVQ8kse6Ml"
      },
      "source": [
        "### Final Conclusion: \n",
        "\n",
        "Best Model: SVC Classifier with parameters found from Grid Searching"
      ]
    }
  ]
}